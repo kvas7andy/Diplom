{
 "cells": [
  {
   "cell_type": "code",
   "execution_count": 1,
   "metadata": {
    "collapsed": true
   },
   "outputs": [],
   "source": [
    "import numpy as np\n",
    "import scipy as scp"
   ]
  },
  {
   "cell_type": "code",
   "execution_count": 2,
   "metadata": {
    "collapsed": false
   },
   "outputs": [
    {
     "ename": "SyntaxError",
     "evalue": "can't assign to function call (<ipython-input-2-1171df76abb3>, line 28)",
     "output_type": "error",
     "traceback": [
      "\u001b[1;36m  File \u001b[1;32m\"<ipython-input-2-1171df76abb3>\"\u001b[1;36m, line \u001b[1;32m28\u001b[0m\n\u001b[1;33m    np.diagonal(self.A, axis1=1, axis2=2) = 1+X/(1+y)[:, np.newaxis]\u001b[0m\n\u001b[1;37m    ^\u001b[0m\n\u001b[1;31mSyntaxError\u001b[0m\u001b[1;31m:\u001b[0m can't assign to function call\n"
     ]
    }
   ],
   "source": [
    "class Processor:\n",
    "    \n",
    "    \n",
    "    def __init__(self):\n",
    "        self.N = self.n_signal = 0\n",
    "        self.alpha = 1\n",
    "        self.Y = self.y0 = None\n",
    "        \n",
    "    def fit(self, Y_fit, y0_fit):\n",
    "        if self.Y is not None or self.y is not None:\n",
    "            throw(\"Error: fit already fitted Processor. Use add_fit().\")\n",
    "        self.Y = Y_fit.copy()\n",
    "        self.y0 = y0_fit.copy()\n",
    "        self.n_signal = Y.shape[-1]\n",
    "        self.N = y.size\n",
    "        \n",
    "    def params_init(self, Y, y0):\n",
    "        n = self.n_signal\n",
    "        N = self.N\n",
    "        self.P = np.zeros((n, n-1))\n",
    "        self.P[np.arange(n-1), np.arange(n-1)] = 1\n",
    "        self.P[n-1, :-1] = -1\n",
    "        #self.P[-1, -1] = -1\n",
    "\n",
    "        self.p = n.zeros((n, 1))\n",
    "        self.p[n-1, 0] = 1\n",
    "        \n",
    "        self.At = np.zeros((N, n+1, n+1))\n",
    "        self.At[:,-1,-1] = 1\n",
    "        self.At[:,np.arange(n),np.arange(n)] = 1+Y/(1+y0)[:, np.newaxis]\n",
    "        #np.diagonal(self.A, axis1=1, axis2=2) = \n",
    "        \n",
    "        self.U = np.diag(np.ones((n,n))*self.alpha)\n",
    "        \n",
    "        \n",
    "    def add_fit(self, Y_add, y0_add):\n",
    "        if self.n_signal != Y_add.shape[-1]:\n",
    "            throw(\"Error: not appropriate added signals length.\")\n",
    "        self.N += Y_add.shape[0]\n",
    "        self.Y = np.concatenate((self.Y, Y_add))\n",
    "        self.y0 = np.concatenate((self.y0, y0_add))\n",
    "    \n",
    "    def CalcRegr_prepare(equal_const=True):\n",
    "         n = self.n_signal\n",
    "        s_len = self.sig_len\n",
    "        # transform due to equality constraints\n",
    "        Y = self.Y.copy()\n",
    "        y0 = self.y0.copy()\n",
    "        U = self.U\n",
    "        At = self.At\n",
    "        P = self.P\n",
    "        p = self.p\n",
    "        alpha = self.alpha\n",
    "        \n",
    "        if equal_constr:\n",
    "            y0 = y0 - self.Y[:, -1]\n",
    "            Y = self.Y[:, :-1] - self.Y[:, -1].reshape(-1, 1)\n",
    "            self.a0 = a0 = (y0/np.sum(Y*Y, axis=1))[:,np.newaxis]*Y\n",
    "            a0[np.sum(Y*Y, axis=1) == 0, :] = 0\n",
    "            self.Q0 = Q0 = Y[:, np.newaxis, :]*Y[:, :, np.newaxis]\n",
    "            \n",
    "            # not needed self.b0 = b0 = np.zeros((,)) # needed???\n",
    "            Tmp = np.dot(At[1:,...].transpose(0,2,1), U).dot(np.eyes((n+1, n+1))[np.newaxis,...] - At[1:,...])\n",
    "            a0 += \n",
    "            \n",
    "            Tmp = np.dot(P.T, U)\n",
    "            A_t = np.transpose(np.dot((np.linalg.inv(Tmp.dot(P))).dot(Tmp), At), axes=(1, 0, 2)).dot(P)\n",
    "            U = Tmp.dot(P)\n",
    "            \n",
    "            \n",
    "        \n",
    "    def CalcRegression(equal_const=True):\n",
    "        n = self.n_signal\n",
    "        s_len = self.sig_len\n",
    "        # transform due to equality constraints\n",
    "        \n",
    "\n",
    "        \n",
    "    def ProcessTo(self):\n",
    "        pass\n",
    "    \n",
    "    def ProcessFrom(self):\n",
    "        pass\n",
    "    \n",
    "    def Merge(self):\n",
    "        pass"
   ]
  },
  {
   "cell_type": "code",
   "execution_count": null,
   "metadata": {
    "collapsed": true
   },
   "outputs": [],
   "source": [
    "Wt = np.zeros((100, 10))"
   ]
  },
  {
   "cell_type": "code",
   "execution_count": 129,
   "metadata": {
    "collapsed": false
   },
   "outputs": [
    {
     "data": {
      "text/plain": [
       "(100,)"
      ]
     },
     "execution_count": 129,
     "metadata": {},
     "output_type": "execute_result"
    }
   ],
   "source": [
    "np.sum(X*X, axis=1).shape"
   ]
  },
  {
   "cell_type": "code",
   "execution_count": 131,
   "metadata": {
    "collapsed": false
   },
   "outputs": [],
   "source": [
    "X = np.arange(100*10).reshape(100, 10)\n",
    "y = np.arange(100)\n",
    "a0 = (y/np.sum(X*X, axis=1))[:, np.newaxis]*X\n",
    "a0[np.sum(X*X, axis=1) == 0, :] = 0\n",
    "Q0 = X[:, np.newaxis, :]*X[:, :, np.newaxis]\n",
    "b0 = np.zeros((100,)) # needed???"
   ]
  },
  {
   "cell_type": "code",
   "execution_count": 6,
   "metadata": {
    "collapsed": false
   },
   "outputs": [
    {
     "data": {
      "text/plain": [
       "array([[[0, 1],\n",
       "        [2, 0]],\n",
       "\n",
       "       [[0, 5],\n",
       "        [6, 0]]])"
      ]
     },
     "execution_count": 6,
     "metadata": {},
     "output_type": "execute_result"
    }
   ],
   "source": [
    "arr = np.arange(2*2*2).reshape(2, 2, 2)\n",
    "diag_view = np.diagonal(arr, axis1=1, axis2=2)\n",
    "arr[:,np.arange(2),np.arange(2)] = 0\n",
    "arr"
   ]
  },
  {
   "cell_type": "code",
   "execution_count": 4,
   "metadata": {
    "collapsed": false
   },
   "outputs": [
    {
     "data": {
      "text/plain": [
       "'1.10.2'"
      ]
     },
     "execution_count": 4,
     "metadata": {},
     "output_type": "execute_result"
    }
   ],
   "source": [
    "arr = np.arange(2*2*2).reshape(2, 2, 2)"
   ]
  },
  {
   "cell_type": "code",
   "execution_count": 32,
   "metadata": {
    "collapsed": false
   },
   "outputs": [
    {
     "data": {
      "text/plain": [
       "array([[[ 11.,   6.,   5.,  13.,   5.],\n",
       "        [  0.,   6.,   2.,   0.,  13.],\n",
       "        [  1.,   7.,   0.,   8.,   9.],\n",
       "        [ 11.,   8.,   1.,  17.,  11.],\n",
       "        [ 11.,   7.,  13.,  16.,   8.]],\n",
       "\n",
       "       [[  0.,   0.,   0.,   0.,   0.],\n",
       "        [  0.,   0.,   0.,   0.,   0.],\n",
       "        [  0.,   0.,   0.,   0.,   0.],\n",
       "        [  0.,   0.,   0.,   0.,   0.],\n",
       "        [  0.,   0.,   0.,   0.,   0.]],\n",
       "\n",
       "       [[  0.,   0.,   0.,   0.,   0.],\n",
       "        [  0.,   0.,   0.,   0.,   0.],\n",
       "        [  0.,   0.,   0.,   0.,   0.],\n",
       "        [  0.,   0.,   0.,   0.,   0.],\n",
       "        [  0.,   0.,   0.,   0.,   0.]]])"
      ]
     },
     "execution_count": 32,
     "metadata": {},
     "output_type": "execute_result"
    }
   ],
   "source": [
    "tmp.transpose(0, 2, 1)"
   ]
  },
  {
   "cell_type": "code",
   "execution_count": 24,
   "metadata": {
    "collapsed": true
   },
   "outputs": [],
   "source": [
    "test = np.random.randint(0,20,size=(5, 5))"
   ]
  },
  {
   "cell_type": "code",
   "execution_count": 25,
   "metadata": {
    "collapsed": false
   },
   "outputs": [
    {
     "data": {
      "text/plain": [
       "array([[  75,   62,   67,  105,  113],\n",
       "       [ 275,  167,  192,  345,  388],\n",
       "       [ 475,  272,  317,  585,  663],\n",
       "       [ 675,  377,  442,  825,  938],\n",
       "       [ 875,  482,  567, 1065, 1213]])"
      ]
     },
     "execution_count": 25,
     "metadata": {},
     "output_type": "execute_result"
    }
   ],
   "source": [
    "arr.dot(test)"
   ]
  },
  {
   "cell_type": "code",
   "execution_count": 26,
   "metadata": {
    "collapsed": false
   },
   "outputs": [
    {
     "data": {
      "text/plain": [
       "array([[[   75.,    62.,    67.,   105.,   113.],\n",
       "        [  275.,   167.,   192.,   345.,   388.],\n",
       "        [  475.,   272.,   317.,   585.,   663.],\n",
       "        [  675.,   377.,   442.,   825.,   938.],\n",
       "        [  875.,   482.,   567.,  1065.,  1213.]],\n",
       "\n",
       "       [[    0.,     0.,     0.,     0.,     0.],\n",
       "        [    0.,     0.,     0.,     0.,     0.],\n",
       "        [    0.,     0.,     0.,     0.,     0.],\n",
       "        [    0.,     0.,     0.,     0.,     0.],\n",
       "        [    0.,     0.,     0.,     0.,     0.]],\n",
       "\n",
       "       [[    0.,     0.,     0.,     0.,     0.],\n",
       "        [    0.,     0.,     0.,     0.,     0.],\n",
       "        [    0.,     0.,     0.,     0.,     0.],\n",
       "        [    0.,     0.,     0.,     0.,     0.],\n",
       "        [    0.,     0.,     0.,     0.,     0.]]])"
      ]
     },
     "execution_count": 26,
     "metadata": {},
     "output_type": "execute_result"
    }
   ],
   "source": [
    "arr = np.arange(5*5).reshape(5, 5)\n",
    "tmp = np.zeros((3,5,5))\n",
    "tmp[0,:,:]=test\n",
    "np.transpose(np.dot(arr, tmp), axes=(1, 0, 2))"
   ]
  },
  {
   "cell_type": "code",
   "execution_count": 14,
   "metadata": {
    "collapsed": false
   },
   "outputs": [
    {
     "data": {
      "text/plain": [
       "array([[45000, 49250, 53500, 57750, 62000],\n",
       "       [48250, 52800, 57350, 61900, 66450],\n",
       "       [51500, 56350, 61200, 66050, 70900],\n",
       "       [54750, 59900, 65050, 70200, 75350],\n",
       "       [58000, 63450, 68900, 74350, 79800]])"
      ]
     },
     "execution_count": 14,
     "metadata": {},
     "output_type": "execute_result"
    }
   ],
   "source": [
    "np.dot(arr.T, arr).dot(arr)"
   ]
  },
  {
   "cell_type": "code",
   "execution_count": null,
   "metadata": {
    "collapsed": true
   },
   "outputs": [],
   "source": [
    "np.invert()"
   ]
  }
 ],
 "metadata": {
  "kernelspec": {
   "display_name": "Python 3",
   "language": "python",
   "name": "python3"
  },
  "language_info": {
   "codemirror_mode": {
    "name": "ipython",
    "version": 3
   },
   "file_extension": ".py",
   "mimetype": "text/x-python",
   "name": "python",
   "nbconvert_exporter": "python",
   "pygments_lexer": "ipython3",
   "version": "3.4.3"
  }
 },
 "nbformat": 4,
 "nbformat_minor": 0
}
